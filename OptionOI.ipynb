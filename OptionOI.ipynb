{
 "cells": [
  {
   "cell_type": "code",
   "execution_count": 1,
   "metadata": {},
   "outputs": [],
   "source": [
    "import pandas as pd \n",
    "import numpy as np \n",
    "import os"
   ]
  },
  {
   "cell_type": "code",
   "execution_count": 2,
   "metadata": {},
   "outputs": [
    {
     "data": {
      "text/plain": [
       "'C:\\\\Users\\\\Evan\\\\Documents\\\\GitHub\\\\FuturesStrategy'"
      ]
     },
     "execution_count": 2,
     "metadata": {},
     "output_type": "execute_result"
    }
   ],
   "source": [
    "work_dir = os.getcwd()\n",
    "work_dir"
   ]
  },
  {
   "cell_type": "code",
   "execution_count": 4,
   "metadata": {},
   "outputs": [],
   "source": [
    "Data_path = os.path.join(work_dir, 'Data')\n",
    "OptionOI = pd.read_csv(os.path.join(Data_path, 'OptionOI.csv'), encoding = 'cp950')\n",
    "OptionOI['日期'] = pd.to_datetime(OptionOI['日期']) "
   ]
  },
  {
   "cell_type": "code",
   "execution_count": 5,
   "metadata": {},
   "outputs": [],
   "source": [
    "Identities = OptionOI.身份別.unique()\n",
    "rights = OptionOI.買賣權別.unique()\n",
    "dates = OptionOI.日期.unique()"
   ]
  },
  {
   "cell_type": "code",
   "execution_count": 7,
   "metadata": {},
   "outputs": [
    {
     "data": {
      "text/plain": [
       "array(['自營商', '投信', '外資及陸資'], dtype=object)"
      ]
     },
     "execution_count": 7,
     "metadata": {},
     "output_type": "execute_result"
    }
   ],
   "source": [
    "Identities"
   ]
  },
  {
   "cell_type": "code",
   "execution_count": 28,
   "metadata": {},
   "outputs": [],
   "source": [
    "CallSum = []\n",
    "PutSum = []\n",
    "CallSumPos = []\n",
    "PutSumPos = []\n",
    "ForCall = []\n",
    "ForPut = []\n",
    "for date in dates: \n",
    "    SumC = 0\n",
    "    SumP = 0\n",
    "    SumCPos = 0\n",
    "    SumPPos = 0\n",
    "    ForC = 0\n",
    "    ForP = 0\n",
    "    \n",
    "    for Ids in Identities:\n",
    "        SumC += int(OptionOI[(OptionOI.日期 == date) & (OptionOI.買賣權別 == 'CALL') & (OptionOI.身份別 == Ids)]['未平倉契約金額買賣淨額(千元)'])\n",
    "        SumP += int(OptionOI[(OptionOI.日期 == date) & (OptionOI.買賣權別 == 'PUT') & (OptionOI.身份別 == Ids)]['未平倉契約金額買賣淨額(千元)'])\n",
    "        SumCPos += int(OptionOI[(OptionOI.日期 == date) & (OptionOI.買賣權別 == 'CALL') & (OptionOI.身份別 == Ids)]['未平倉口數買賣淨額'])\n",
    "        SumPPos += int(OptionOI[(OptionOI.日期 == date) & (OptionOI.買賣權別 == 'PUT') & (OptionOI.身份別 == Ids)]['未平倉口數買賣淨額'])\n",
    "        if Ids == '外資及陸資': \n",
    "            ForC = int(OptionOI[(OptionOI.日期 == date) & (OptionOI.買賣權別 == 'CALL') & (OptionOI.身份別 == Ids)]['未平倉契約金額買賣淨額(千元)'])\n",
    "            ForP = int(OptionOI[(OptionOI.日期 == date) & (OptionOI.買賣權別 == 'PUT') & (OptionOI.身份別 == Ids)]['未平倉契約金額買賣淨額(千元)'])\n",
    "            \n",
    "    CallSum.append(SumC)\n",
    "    PutSum.append(SumP)\n",
    "    CallSumPos.append(SumCPos)\n",
    "    PutSumPos.append(SumPPos)\n",
    "    ForCall.append(ForC)\n",
    "    ForPut.append(ForP)"
   ]
  },
  {
   "cell_type": "code",
   "execution_count": 29,
   "metadata": {},
   "outputs": [],
   "source": [
    "SumOIDict = {'日期': dates, '三大法人Call未平倉口數': CallSumPos, \n",
    "          '三大法人Call未平倉契約金額': CallSum, \n",
    "          '三大法人Put未平倉口數': PutSumPos,\n",
    "          '三大法人Put未平倉契約金額': PutSum}\n",
    "\n",
    "ForOIDict = {'日期': dates, '外資Call未平倉金額': ForCall, \n",
    "          '外資Put未平倉契約金額': ForPut}"
   ]
  },
  {
   "cell_type": "code",
   "execution_count": 30,
   "metadata": {},
   "outputs": [],
   "source": [
    "SumOptionOI = pd.DataFrame(SumOIDict)\n",
    "ForOptionOI = pd.DataFrame(ForOIDict)"
   ]
  },
  {
   "cell_type": "code",
   "execution_count": 31,
   "metadata": {
    "scrolled": true
   },
   "outputs": [
    {
     "data": {
      "text/html": [
       "<div>\n",
       "<style scoped>\n",
       "    .dataframe tbody tr th:only-of-type {\n",
       "        vertical-align: middle;\n",
       "    }\n",
       "\n",
       "    .dataframe tbody tr th {\n",
       "        vertical-align: top;\n",
       "    }\n",
       "\n",
       "    .dataframe thead th {\n",
       "        text-align: right;\n",
       "    }\n",
       "</style>\n",
       "<table border=\"1\" class=\"dataframe\">\n",
       "  <thead>\n",
       "    <tr style=\"text-align: right;\">\n",
       "      <th></th>\n",
       "      <th>日期</th>\n",
       "      <th>外資Call未平倉金額</th>\n",
       "      <th>外資Put未平倉契約金額</th>\n",
       "    </tr>\n",
       "  </thead>\n",
       "  <tbody>\n",
       "    <tr>\n",
       "      <th>727</th>\n",
       "      <td>2020-04-13</td>\n",
       "      <td>4803</td>\n",
       "      <td>1695576</td>\n",
       "    </tr>\n",
       "    <tr>\n",
       "      <th>728</th>\n",
       "      <td>2020-04-14</td>\n",
       "      <td>-11981</td>\n",
       "      <td>1379993</td>\n",
       "    </tr>\n",
       "    <tr>\n",
       "      <th>729</th>\n",
       "      <td>2020-04-15</td>\n",
       "      <td>248303</td>\n",
       "      <td>1044776</td>\n",
       "    </tr>\n",
       "    <tr>\n",
       "      <th>730</th>\n",
       "      <td>2020-04-16</td>\n",
       "      <td>238521</td>\n",
       "      <td>1084329</td>\n",
       "    </tr>\n",
       "    <tr>\n",
       "      <th>731</th>\n",
       "      <td>2020-04-17</td>\n",
       "      <td>289254</td>\n",
       "      <td>955280</td>\n",
       "    </tr>\n",
       "    <tr>\n",
       "      <th>732</th>\n",
       "      <td>2020-04-20</td>\n",
       "      <td>243275</td>\n",
       "      <td>1006138</td>\n",
       "    </tr>\n",
       "    <tr>\n",
       "      <th>733</th>\n",
       "      <td>2020-04-21</td>\n",
       "      <td>204608</td>\n",
       "      <td>1237275</td>\n",
       "    </tr>\n",
       "    <tr>\n",
       "      <th>734</th>\n",
       "      <td>2020-04-22</td>\n",
       "      <td>186207</td>\n",
       "      <td>1203523</td>\n",
       "    </tr>\n",
       "    <tr>\n",
       "      <th>735</th>\n",
       "      <td>2020-04-23</td>\n",
       "      <td>189197</td>\n",
       "      <td>1146415</td>\n",
       "    </tr>\n",
       "    <tr>\n",
       "      <th>736</th>\n",
       "      <td>2020-04-24</td>\n",
       "      <td>174390</td>\n",
       "      <td>1150691</td>\n",
       "    </tr>\n",
       "  </tbody>\n",
       "</table>\n",
       "</div>"
      ],
      "text/plain": [
       "            日期  外資Call未平倉金額  外資Put未平倉契約金額\n",
       "727 2020-04-13         4803       1695576\n",
       "728 2020-04-14       -11981       1379993\n",
       "729 2020-04-15       248303       1044776\n",
       "730 2020-04-16       238521       1084329\n",
       "731 2020-04-17       289254        955280\n",
       "732 2020-04-20       243275       1006138\n",
       "733 2020-04-21       204608       1237275\n",
       "734 2020-04-22       186207       1203523\n",
       "735 2020-04-23       189197       1146415\n",
       "736 2020-04-24       174390       1150691"
      ]
     },
     "execution_count": 31,
     "metadata": {},
     "output_type": "execute_result"
    }
   ],
   "source": [
    "ForOptionOI.tail(10)"
   ]
  },
  {
   "cell_type": "markdown",
   "metadata": {},
   "source": [
    "### write to csv"
   ]
  },
  {
   "cell_type": "code",
   "execution_count": 32,
   "metadata": {},
   "outputs": [],
   "source": [
    "SumOptionOI.to_csv(os.path.join(Data_path, 'SumOptionOI.csv'), index = False, encoding = 'cp950')"
   ]
  },
  {
   "cell_type": "code",
   "execution_count": 33,
   "metadata": {},
   "outputs": [],
   "source": [
    "ForOptionOI.to_csv(os.path.join(Data_path, 'ForOptionOI.csv'), index = False, encoding = 'cp950')"
   ]
  },
  {
   "cell_type": "code",
   "execution_count": null,
   "metadata": {},
   "outputs": [],
   "source": []
  }
 ],
 "metadata": {
  "kernelspec": {
   "display_name": "Python 3",
   "language": "python",
   "name": "python3"
  },
  "language_info": {
   "codemirror_mode": {
    "name": "ipython",
    "version": 3
   },
   "file_extension": ".py",
   "mimetype": "text/x-python",
   "name": "python",
   "nbconvert_exporter": "python",
   "pygments_lexer": "ipython3",
   "version": "3.7.4"
  }
 },
 "nbformat": 4,
 "nbformat_minor": 2
}
