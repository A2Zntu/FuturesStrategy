{
 "cells": [
  {
   "cell_type": "code",
   "execution_count": 1,
   "metadata": {},
   "outputs": [],
   "source": [
    "import pandas as pd \n",
    "import matplotlib.pyplot as plt \n",
    "import numpy as np \n",
    "import os"
   ]
  },
  {
   "cell_type": "code",
   "execution_count": 2,
   "metadata": {},
   "outputs": [
    {
     "data": {
      "text/plain": [
       "'C:\\\\Users\\\\Evan\\\\Documents\\\\GitHub\\\\FuturesStrategy'"
      ]
     },
     "execution_count": 2,
     "metadata": {},
     "output_type": "execute_result"
    }
   ],
   "source": [
    "work_dir = os.getcwd()\n",
    "work_dir"
   ]
  },
  {
   "cell_type": "markdown",
   "metadata": {},
   "source": [
    "## Read the Data"
   ]
  },
  {
   "cell_type": "code",
   "execution_count": 3,
   "metadata": {},
   "outputs": [],
   "source": [
    "Data_path = os.path.join(work_dir, 'Data')\n",
    "TX = pd.read_csv(os.path.join(Data_path, 'TX.csv'), encoding = 'cp950')\n",
    "OI = pd.read_csv(os.path.join(Data_path, 'MTXOpenInterest.csv'), encoding = 'cp950')\n",
    "TX['日期'] = pd.to_datetime(TX['日期']) \n",
    "OI['日期'] = pd.to_datetime(OI['日期']) "
   ]
  },
  {
   "cell_type": "code",
   "execution_count": 4,
   "metadata": {},
   "outputs": [
    {
     "data": {
      "text/plain": [
       "(4116, 8)"
      ]
     },
     "execution_count": 4,
     "metadata": {},
     "output_type": "execute_result"
    }
   ],
   "source": [
    "TX.shape"
   ]
  },
  {
   "cell_type": "code",
   "execution_count": 5,
   "metadata": {},
   "outputs": [
    {
     "data": {
      "text/plain": [
       "(735, 4)"
      ]
     },
     "execution_count": 5,
     "metadata": {},
     "output_type": "execute_result"
    }
   ],
   "source": [
    "OI.shape"
   ]
  },
  {
   "cell_type": "code",
   "execution_count": 6,
   "metadata": {},
   "outputs": [
    {
     "data": {
      "text/html": [
       "<div>\n",
       "<style scoped>\n",
       "    .dataframe tbody tr th:only-of-type {\n",
       "        vertical-align: middle;\n",
       "    }\n",
       "\n",
       "    .dataframe tbody tr th {\n",
       "        vertical-align: top;\n",
       "    }\n",
       "\n",
       "    .dataframe thead th {\n",
       "        text-align: right;\n",
       "    }\n",
       "</style>\n",
       "<table border=\"1\" class=\"dataframe\">\n",
       "  <thead>\n",
       "    <tr style=\"text-align: right;\">\n",
       "      <th></th>\n",
       "      <th>日期</th>\n",
       "      <th>自營商</th>\n",
       "      <th>外資</th>\n",
       "      <th>投信</th>\n",
       "    </tr>\n",
       "  </thead>\n",
       "  <tbody>\n",
       "    <tr>\n",
       "      <th>730</th>\n",
       "      <td>2020-04-16</td>\n",
       "      <td>1413602</td>\n",
       "      <td>1575209</td>\n",
       "      <td>42234</td>\n",
       "    </tr>\n",
       "    <tr>\n",
       "      <th>731</th>\n",
       "      <td>2020-04-17</td>\n",
       "      <td>2244324</td>\n",
       "      <td>-367902</td>\n",
       "      <td>42780</td>\n",
       "    </tr>\n",
       "    <tr>\n",
       "      <th>732</th>\n",
       "      <td>2020-04-20</td>\n",
       "      <td>1756390</td>\n",
       "      <td>-2425912</td>\n",
       "      <td>34568</td>\n",
       "    </tr>\n",
       "    <tr>\n",
       "      <th>733</th>\n",
       "      <td>2020-04-21</td>\n",
       "      <td>1538302</td>\n",
       "      <td>-2029498</td>\n",
       "      <td>33647</td>\n",
       "    </tr>\n",
       "    <tr>\n",
       "      <th>734</th>\n",
       "      <td>2020-04-22</td>\n",
       "      <td>914106</td>\n",
       "      <td>-2022450</td>\n",
       "      <td>32710</td>\n",
       "    </tr>\n",
       "  </tbody>\n",
       "</table>\n",
       "</div>"
      ],
      "text/plain": [
       "            日期      自營商       外資     投信\n",
       "730 2020-04-16  1413602  1575209  42234\n",
       "731 2020-04-17  2244324  -367902  42780\n",
       "732 2020-04-20  1756390 -2425912  34568\n",
       "733 2020-04-21  1538302 -2029498  33647\n",
       "734 2020-04-22   914106 -2022450  32710"
      ]
     },
     "execution_count": 6,
     "metadata": {},
     "output_type": "execute_result"
    }
   ],
   "source": [
    "OI.tail()"
   ]
  },
  {
   "cell_type": "markdown",
   "metadata": {},
   "source": [
    " Aggregating the open interest of Institutional investors"
   ]
  },
  {
   "cell_type": "code",
   "execution_count": 7,
   "metadata": {},
   "outputs": [],
   "source": [
    "OI['三大法人總和'] = OI['自營商'] + OI['外資'] + OI['投信']"
   ]
  },
  {
   "cell_type": "code",
   "execution_count": 8,
   "metadata": {},
   "outputs": [
    {
     "data": {
      "text/html": [
       "<div>\n",
       "<style scoped>\n",
       "    .dataframe tbody tr th:only-of-type {\n",
       "        vertical-align: middle;\n",
       "    }\n",
       "\n",
       "    .dataframe tbody tr th {\n",
       "        vertical-align: top;\n",
       "    }\n",
       "\n",
       "    .dataframe thead th {\n",
       "        text-align: right;\n",
       "    }\n",
       "</style>\n",
       "<table border=\"1\" class=\"dataframe\">\n",
       "  <thead>\n",
       "    <tr style=\"text-align: right;\">\n",
       "      <th></th>\n",
       "      <th>日期</th>\n",
       "      <th>自營商</th>\n",
       "      <th>外資</th>\n",
       "      <th>投信</th>\n",
       "      <th>三大法人總和</th>\n",
       "    </tr>\n",
       "  </thead>\n",
       "  <tbody>\n",
       "    <tr>\n",
       "      <th>730</th>\n",
       "      <td>2020-04-16</td>\n",
       "      <td>1413602</td>\n",
       "      <td>1575209</td>\n",
       "      <td>42234</td>\n",
       "      <td>3031045</td>\n",
       "    </tr>\n",
       "    <tr>\n",
       "      <th>731</th>\n",
       "      <td>2020-04-17</td>\n",
       "      <td>2244324</td>\n",
       "      <td>-367902</td>\n",
       "      <td>42780</td>\n",
       "      <td>1919202</td>\n",
       "    </tr>\n",
       "    <tr>\n",
       "      <th>732</th>\n",
       "      <td>2020-04-20</td>\n",
       "      <td>1756390</td>\n",
       "      <td>-2425912</td>\n",
       "      <td>34568</td>\n",
       "      <td>-634954</td>\n",
       "    </tr>\n",
       "    <tr>\n",
       "      <th>733</th>\n",
       "      <td>2020-04-21</td>\n",
       "      <td>1538302</td>\n",
       "      <td>-2029498</td>\n",
       "      <td>33647</td>\n",
       "      <td>-457549</td>\n",
       "    </tr>\n",
       "    <tr>\n",
       "      <th>734</th>\n",
       "      <td>2020-04-22</td>\n",
       "      <td>914106</td>\n",
       "      <td>-2022450</td>\n",
       "      <td>32710</td>\n",
       "      <td>-1075634</td>\n",
       "    </tr>\n",
       "  </tbody>\n",
       "</table>\n",
       "</div>"
      ],
      "text/plain": [
       "            日期      自營商       外資     投信   三大法人總和\n",
       "730 2020-04-16  1413602  1575209  42234  3031045\n",
       "731 2020-04-17  2244324  -367902  42780  1919202\n",
       "732 2020-04-20  1756390 -2425912  34568  -634954\n",
       "733 2020-04-21  1538302 -2029498  33647  -457549\n",
       "734 2020-04-22   914106 -2022450  32710 -1075634"
      ]
     },
     "execution_count": 8,
     "metadata": {},
     "output_type": "execute_result"
    }
   ],
   "source": [
    "OI.tail()"
   ]
  },
  {
   "cell_type": "markdown",
   "metadata": {},
   "source": [
    "## We take out the closest delivery TX as out underlying.  小台近日"
   ]
  },
  {
   "cell_type": "code",
   "execution_count": 9,
   "metadata": {},
   "outputs": [],
   "source": [
    "TX00 = TX.drop_duplicates(subset = ['日期'], keep = 'first').reset_index(drop=True)"
   ]
  },
  {
   "cell_type": "code",
   "execution_count": 10,
   "metadata": {},
   "outputs": [
    {
     "data": {
      "text/html": [
       "<div>\n",
       "<style scoped>\n",
       "    .dataframe tbody tr th:only-of-type {\n",
       "        vertical-align: middle;\n",
       "    }\n",
       "\n",
       "    .dataframe tbody tr th {\n",
       "        vertical-align: top;\n",
       "    }\n",
       "\n",
       "    .dataframe thead th {\n",
       "        text-align: right;\n",
       "    }\n",
       "</style>\n",
       "<table border=\"1\" class=\"dataframe\">\n",
       "  <thead>\n",
       "    <tr style=\"text-align: right;\">\n",
       "      <th></th>\n",
       "      <th>期貨名稱</th>\n",
       "      <th>日期</th>\n",
       "      <th>到期月</th>\n",
       "      <th>開盤價</th>\n",
       "      <th>收盤價</th>\n",
       "      <th>每日結算價</th>\n",
       "      <th>未平倉合約數</th>\n",
       "      <th>無風險利率</th>\n",
       "    </tr>\n",
       "  </thead>\n",
       "  <tbody>\n",
       "    <tr>\n",
       "      <th>0</th>\n",
       "      <td>TX201705 台指 2017/05</td>\n",
       "      <td>2017-04-24</td>\n",
       "      <td>May-17</td>\n",
       "      <td>9747.0</td>\n",
       "      <td>9705.0</td>\n",
       "      <td>9706</td>\n",
       "      <td>86630</td>\n",
       "      <td>1.045</td>\n",
       "    </tr>\n",
       "    <tr>\n",
       "      <th>1</th>\n",
       "      <td>TX201705 台指 2017/05</td>\n",
       "      <td>2017-04-25</td>\n",
       "      <td>May-17</td>\n",
       "      <td>9746.0</td>\n",
       "      <td>9813.0</td>\n",
       "      <td>9814</td>\n",
       "      <td>88368</td>\n",
       "      <td>1.045</td>\n",
       "    </tr>\n",
       "    <tr>\n",
       "      <th>2</th>\n",
       "      <td>TX201705 台指 2017/05</td>\n",
       "      <td>2017-04-26</td>\n",
       "      <td>May-17</td>\n",
       "      <td>9855.0</td>\n",
       "      <td>9841.0</td>\n",
       "      <td>9842</td>\n",
       "      <td>88047</td>\n",
       "      <td>1.045</td>\n",
       "    </tr>\n",
       "    <tr>\n",
       "      <th>3</th>\n",
       "      <td>TX201705 台指 2017/05</td>\n",
       "      <td>2017-04-27</td>\n",
       "      <td>May-17</td>\n",
       "      <td>9829.0</td>\n",
       "      <td>9839.0</td>\n",
       "      <td>9838</td>\n",
       "      <td>88742</td>\n",
       "      <td>1.045</td>\n",
       "    </tr>\n",
       "    <tr>\n",
       "      <th>4</th>\n",
       "      <td>TX201705 台指 2017/05</td>\n",
       "      <td>2017-04-28</td>\n",
       "      <td>May-17</td>\n",
       "      <td>9847.0</td>\n",
       "      <td>9857.0</td>\n",
       "      <td>9856</td>\n",
       "      <td>88286</td>\n",
       "      <td>1.045</td>\n",
       "    </tr>\n",
       "  </tbody>\n",
       "</table>\n",
       "</div>"
      ],
      "text/plain": [
       "                  期貨名稱         日期     到期月     開盤價     收盤價  每日結算價  未平倉合約數  \\\n",
       "0  TX201705 台指 2017/05 2017-04-24  May-17  9747.0  9705.0   9706   86630   \n",
       "1  TX201705 台指 2017/05 2017-04-25  May-17  9746.0  9813.0   9814   88368   \n",
       "2  TX201705 台指 2017/05 2017-04-26  May-17  9855.0  9841.0   9842   88047   \n",
       "3  TX201705 台指 2017/05 2017-04-27  May-17  9829.0  9839.0   9838   88742   \n",
       "4  TX201705 台指 2017/05 2017-04-28  May-17  9847.0  9857.0   9856   88286   \n",
       "\n",
       "   無風險利率  \n",
       "0  1.045  \n",
       "1  1.045  \n",
       "2  1.045  \n",
       "3  1.045  \n",
       "4  1.045  "
      ]
     },
     "execution_count": 10,
     "metadata": {},
     "output_type": "execute_result"
    }
   ],
   "source": [
    "TX00.head()"
   ]
  },
  {
   "cell_type": "code",
   "execution_count": 11,
   "metadata": {},
   "outputs": [],
   "source": [
    "TX00['CC'] = TX00['每日結算價'].pct_change()\n",
    "TX00['OC'] = (TX00['收盤價'] - TX00['開盤價'])/TX00['開盤價']"
   ]
  },
  {
   "cell_type": "code",
   "execution_count": 12,
   "metadata": {},
   "outputs": [
    {
     "data": {
      "text/html": [
       "<div>\n",
       "<style scoped>\n",
       "    .dataframe tbody tr th:only-of-type {\n",
       "        vertical-align: middle;\n",
       "    }\n",
       "\n",
       "    .dataframe tbody tr th {\n",
       "        vertical-align: top;\n",
       "    }\n",
       "\n",
       "    .dataframe thead th {\n",
       "        text-align: right;\n",
       "    }\n",
       "</style>\n",
       "<table border=\"1\" class=\"dataframe\">\n",
       "  <thead>\n",
       "    <tr style=\"text-align: right;\">\n",
       "      <th></th>\n",
       "      <th>期貨名稱</th>\n",
       "      <th>日期</th>\n",
       "      <th>到期月</th>\n",
       "      <th>開盤價</th>\n",
       "      <th>收盤價</th>\n",
       "      <th>每日結算價</th>\n",
       "      <th>未平倉合約數</th>\n",
       "      <th>無風險利率</th>\n",
       "      <th>CC</th>\n",
       "      <th>OC</th>\n",
       "    </tr>\n",
       "  </thead>\n",
       "  <tbody>\n",
       "    <tr>\n",
       "      <th>0</th>\n",
       "      <td>TX201705 台指 2017/05</td>\n",
       "      <td>2017-04-24</td>\n",
       "      <td>May-17</td>\n",
       "      <td>9747.0</td>\n",
       "      <td>9705.0</td>\n",
       "      <td>9706</td>\n",
       "      <td>86630</td>\n",
       "      <td>1.045</td>\n",
       "      <td>NaN</td>\n",
       "      <td>-0.004309</td>\n",
       "    </tr>\n",
       "    <tr>\n",
       "      <th>1</th>\n",
       "      <td>TX201705 台指 2017/05</td>\n",
       "      <td>2017-04-25</td>\n",
       "      <td>May-17</td>\n",
       "      <td>9746.0</td>\n",
       "      <td>9813.0</td>\n",
       "      <td>9814</td>\n",
       "      <td>88368</td>\n",
       "      <td>1.045</td>\n",
       "      <td>0.011127</td>\n",
       "      <td>0.006875</td>\n",
       "    </tr>\n",
       "    <tr>\n",
       "      <th>2</th>\n",
       "      <td>TX201705 台指 2017/05</td>\n",
       "      <td>2017-04-26</td>\n",
       "      <td>May-17</td>\n",
       "      <td>9855.0</td>\n",
       "      <td>9841.0</td>\n",
       "      <td>9842</td>\n",
       "      <td>88047</td>\n",
       "      <td>1.045</td>\n",
       "      <td>0.002853</td>\n",
       "      <td>-0.001421</td>\n",
       "    </tr>\n",
       "    <tr>\n",
       "      <th>3</th>\n",
       "      <td>TX201705 台指 2017/05</td>\n",
       "      <td>2017-04-27</td>\n",
       "      <td>May-17</td>\n",
       "      <td>9829.0</td>\n",
       "      <td>9839.0</td>\n",
       "      <td>9838</td>\n",
       "      <td>88742</td>\n",
       "      <td>1.045</td>\n",
       "      <td>-0.000406</td>\n",
       "      <td>0.001017</td>\n",
       "    </tr>\n",
       "    <tr>\n",
       "      <th>4</th>\n",
       "      <td>TX201705 台指 2017/05</td>\n",
       "      <td>2017-04-28</td>\n",
       "      <td>May-17</td>\n",
       "      <td>9847.0</td>\n",
       "      <td>9857.0</td>\n",
       "      <td>9856</td>\n",
       "      <td>88286</td>\n",
       "      <td>1.045</td>\n",
       "      <td>0.001830</td>\n",
       "      <td>0.001016</td>\n",
       "    </tr>\n",
       "  </tbody>\n",
       "</table>\n",
       "</div>"
      ],
      "text/plain": [
       "                  期貨名稱         日期     到期月     開盤價     收盤價  每日結算價  未平倉合約數  \\\n",
       "0  TX201705 台指 2017/05 2017-04-24  May-17  9747.0  9705.0   9706   86630   \n",
       "1  TX201705 台指 2017/05 2017-04-25  May-17  9746.0  9813.0   9814   88368   \n",
       "2  TX201705 台指 2017/05 2017-04-26  May-17  9855.0  9841.0   9842   88047   \n",
       "3  TX201705 台指 2017/05 2017-04-27  May-17  9829.0  9839.0   9838   88742   \n",
       "4  TX201705 台指 2017/05 2017-04-28  May-17  9847.0  9857.0   9856   88286   \n",
       "\n",
       "   無風險利率        CC        OC  \n",
       "0  1.045       NaN -0.004309  \n",
       "1  1.045  0.011127  0.006875  \n",
       "2  1.045  0.002853 -0.001421  \n",
       "3  1.045 -0.000406  0.001017  \n",
       "4  1.045  0.001830  0.001016  "
      ]
     },
     "execution_count": 12,
     "metadata": {},
     "output_type": "execute_result"
    }
   ],
   "source": [
    "TX00.head()"
   ]
  },
  {
   "cell_type": "code",
   "execution_count": 13,
   "metadata": {},
   "outputs": [
    {
     "data": {
      "text/plain": [
       "期貨名稱              object\n",
       "日期        datetime64[ns]\n",
       "到期月               object\n",
       "開盤價              float64\n",
       "收盤價              float64\n",
       "每日結算價              int64\n",
       "未平倉合約數             int64\n",
       "無風險利率            float64\n",
       "CC               float64\n",
       "OC               float64\n",
       "dtype: object"
      ]
     },
     "execution_count": 13,
     "metadata": {},
     "output_type": "execute_result"
    }
   ],
   "source": [
    "TX00.dtypes"
   ]
  },
  {
   "cell_type": "markdown",
   "metadata": {},
   "source": [
    "## Show the TX first "
   ]
  },
  {
   "cell_type": "code",
   "execution_count": 14,
   "metadata": {},
   "outputs": [
    {
     "data": {
      "image/png": "[encoded data removed]",
      "text/plain": [
       "<Figure size 1080x720 with 2 Axes>"
      ]
     },
     "metadata": {},
     "output_type": "display_data"
    }
   ],
   "source": [
    "date = TX00.iloc[::5, :]['日期']\n",
    "closePrice = TX00.iloc[::5, :]['每日結算價']\n",
    "OIII = OI.iloc[:, :]['三大法人總和']\n",
    "date1 = OI.iloc[:, :]['日期']\n",
    "\n",
    "plt.style.use('ggplot')\n",
    "plt.figure(figsize=(15,10))\n",
    "\n",
    "plt.subplot(211)\n",
    "plt.plot(date, closePrice, marker='o')\n",
    "title_name1 = \"TX00 trend\" \n",
    "plt.title(title_name1)\n",
    "plt.xlabel('Date', fontsize=14)\n",
    "plt.ylabel('Price', fontsize=14)\n",
    "\n",
    "plt.subplot(212)\n",
    "plt.bar(date1, OIII, color = 'blue')\n",
    "title_name2 = \"OI of Institutional Investors\"\n",
    "plt.title(title_name2)\n",
    "plt.xlabel('Date', fontsize=14)\n",
    "plt.ylabel('Volume', fontsize=14)\n",
    "\n",
    "plt.savefig(os.path.join(work_dir, 'Graph', title_name1 + title_name2))\n",
    "plt.show()"
   ]
  },
  {
   "cell_type": "markdown",
   "metadata": {},
   "source": [
    "## Run the correlation between MTXOI and TX"
   ]
  },
  {
   "cell_type": "code",
   "execution_count": 15,
   "metadata": {},
   "outputs": [],
   "source": [
    "dailyMTXR = TX00['每日結算價'].pct_change()"
   ]
  },
  {
   "cell_type": "code",
   "execution_count": 16,
   "metadata": {},
   "outputs": [
    {
     "data": {
      "text/plain": [
       "0         NaN\n",
       "1    0.011127\n",
       "2    0.002853\n",
       "3   -0.000406\n",
       "4    0.001830\n",
       "Name: 每日結算價, dtype: float64"
      ]
     },
     "execution_count": 16,
     "metadata": {},
     "output_type": "execute_result"
    }
   ],
   "source": [
    "dailyMTXR.head()"
   ]
  },
  {
   "cell_type": "code",
   "execution_count": 37,
   "metadata": {},
   "outputs": [],
   "source": [
    "dailyOIchange = OI['三大法人總和'] - OI['三大法人總和'].shift(1) # today's OI aggregation minus yesterday's OI aggregation"
   ]
  },
  {
   "cell_type": "code",
   "execution_count": 41,
   "metadata": {},
   "outputs": [
    {
     "data": {
      "text/plain": [
       "0          NaN\n",
       "1    3332060.0\n",
       "2     -59445.0\n",
       "3    -143837.0\n",
       "4     589032.0\n",
       "Name: 三大法人總和, dtype: float64"
      ]
     },
     "execution_count": 41,
     "metadata": {},
     "output_type": "execute_result"
    }
   ],
   "source": [
    "dailyOIchange.head()"
   ]
  },
  {
   "cell_type": "code",
   "execution_count": 19,
   "metadata": {},
   "outputs": [
    {
     "data": {
      "text/plain": [
       "array([[1.        , 0.46794229],\n",
       "       [0.46794229, 1.        ]])"
      ]
     },
     "execution_count": 19,
     "metadata": {},
     "output_type": "execute_result"
    }
   ],
   "source": [
    "np.corrcoef(dailyMTXR[1:], dailyOIchange[1:])"
   ]
  },
  {
   "cell_type": "markdown",
   "metadata": {},
   "source": [
    "The correlation between the TX return and OIchange is 0.47"
   ]
  },
  {
   "cell_type": "markdown",
   "metadata": {},
   "source": [
    "# Strategy Development "
   ]
  },
  {
   "cell_type": "markdown",
   "metadata": {},
   "source": [
    "* Strategy1: Buy and Hold\n",
    "* Strategy2: \n",
    "      - Buy @ OpenPrice_T+1 and offset at the @ closePrice_T+1 if the dailyOIchange is positive;  \n",
    "      - Sell @ OpenPrice_T+1 and offset at the @ closePrice_T+1 if the dailyOIchange is negative\n",
    "* Strategy3: Buy"
   ]
  },
  {
   "cell_type": "code",
   "execution_count": 25,
   "metadata": {},
   "outputs": [],
   "source": [
    "def buyandhold(data): \n",
    "    length = len(data)\n",
    "    idx = [True] * length \n",
    "    \n",
    "    data['LS'] = idx\n",
    "    data['pnl'] = 100 * (1 + data['LS'] * data['CC']).cumprod()\n",
    "    \n",
    "    return data['pnl']"
   ]
  },
  {
   "cell_type": "code",
   "execution_count": 29,
   "metadata": {},
   "outputs": [
    {
     "data": {
      "text/plain": [
       "<matplotlib.axes._subplots.AxesSubplot at 0x17483f78088>"
      ]
     },
     "execution_count": 29,
     "metadata": {},
     "output_type": "execute_result"
    },
    {
     "data": {
      "image/png": "[encoded data removed]",
      "text/plain": [
       "<Figure size 432x288 with 1 Axes>"
      ]
     },
     "metadata": {},
     "output_type": "display_data"
    }
   ],
   "source": [
    "pnl = buyandhold(TX00)\n",
    "pnl.plot(grid = True, kind = 'line', title = 'Buy and Hold', legend = True)"
   ]
  },
  {
   "cell_type": "code",
   "execution_count": 47,
   "metadata": {},
   "outputs": [],
   "source": [
    "def strategy2_LS(data): \n",
    "    # Buy if the dailyOIchange is positive, Sell if the dailyOIchange is negative\n",
    "    length = len(data)\n",
    "    idx = [0] * length\n",
    "    for i in range(0, len(dailyOIchange)):\n",
    "        if dailyOIchange[i] > 0: \n",
    "            idx[i] = 1\n",
    "        elif dailyOIchange[i] < 0: \n",
    "            idx[i] = -1\n",
    "        else: \n",
    "            idx[i] = 0\n",
    "\n",
    "    data['LS'] = idx\n",
    "    data['pnl'] = 100 * (1 + data['LS'].shift(1) * data['OC']).cumprod()\n",
    "    print(data['LS'].head())\n",
    "    return data['pnl']"
   ]
  },
  {
   "cell_type": "code",
   "execution_count": 48,
   "metadata": {},
   "outputs": [
    {
     "name": "stdout",
     "output_type": "stream",
     "text": [
      "0    0\n",
      "1    1\n",
      "2   -1\n",
      "3   -1\n",
      "4    1\n",
      "Name: LS, dtype: int64\n"
     ]
    },
    {
     "data": {
      "text/plain": [
       "<matplotlib.axes._subplots.AxesSubplot at 0x174859fdf48>"
      ]
     },
     "execution_count": 48,
     "metadata": {},
     "output_type": "execute_result"
    },
    {
     "data": {
      "image/png": "[encoded data removed]",
      "text/plain": [
       "<Figure size 432x288 with 1 Axes>"
      ]
     },
     "metadata": {},
     "output_type": "display_data"
    }
   ],
   "source": [
    "pnl = strategy2_LS(TX00)\n",
    "pnl.plot(grid = True, kind = 'line', title = 'Strategy2', legend = True)"
   ]
  },
  {
   "cell_type": "code",
   "execution_count": 44,
   "metadata": {},
   "outputs": [
    {
     "data": {
      "text/plain": [
       "0              NaN\n",
       "1       101.112714\n",
       "2       100.824232\n",
       "3       100.865210\n",
       "4       101.049757\n",
       "          ...     \n",
       "730    2073.376150\n",
       "731    2020.641023\n",
       "732    2037.474915\n",
       "733    1983.207087\n",
       "734    1978.149870\n",
       "Name: pnl, Length: 735, dtype: float64"
      ]
     },
     "execution_count": 44,
     "metadata": {},
     "output_type": "execute_result"
    }
   ],
   "source": [
    "pnl"
   ]
  },
  {
   "cell_type": "code",
   "execution_count": null,
   "metadata": {},
   "outputs": [],
   "source": []
  }
 ],
 "metadata": {
  "kernelspec": {
   "display_name": "Python 3",
   "language": "python",
   "name": "python3"
  },
  "language_info": {
   "codemirror_mode": {
    "name": "ipython",
    "version": 3
   },
   "file_extension": ".py",
   "mimetype": "text/x-python",
   "name": "python",
   "nbconvert_exporter": "python",
   "pygments_lexer": "ipython3",
   "version": "3.7.4"
  }
 },
 "nbformat": 4,
 "nbformat_minor": 2
}
